{
  "nbformat": 4,
  "nbformat_minor": 0,
  "metadata": {
    "colab": {
      "provenance": [],
      "gpuType": "T4",
      "authorship_tag": "ABX9TyMm2JbpUTQX5xEyQCCbR8MU"
    },
    "kernelspec": {
      "name": "python3",
      "display_name": "Python 3"
    },
    "language_info": {
      "name": "python"
    },
    "accelerator": "GPU"
  },
  "cells": [
    {
      "cell_type": "markdown",
      "source": [
        "### CIFAR-10 데이터에 ResNet 모델을 적용해 성능 향상 시키기"
      ],
      "metadata": {
        "id": "0rnjoeKkr_vI"
      }
    },
    {
      "cell_type": "code",
      "execution_count": 46,
      "metadata": {
        "id": "OhHtHb9pr10x"
      },
      "outputs": [],
      "source": [
        "''' 1. Import Module '''\n",
        "import numpy as np\n",
        "import matplotlib.pyplot as plt\n",
        "\n",
        "import torch\n",
        "import torch.nn as nn\n",
        "import torch.nn.functional as F\n",
        "from torchvision import transforms, datasets"
      ]
    },
    {
      "cell_type": "code",
      "source": [
        "''' 2. 딥러닝 모델을 설계할 때 활용하는 장비 확인 '''\n",
        "if torch.cuda.is_available():\n",
        "    DEVICE = torch.device('cuda')\n",
        "else:\n",
        "    DEVICE = torch.device('cpu')\n",
        "\n",
        "print(\"Using PyTorch version: \", torch.__version__, \" Device: \", DEVICE)"
      ],
      "metadata": {
        "colab": {
          "base_uri": "https://localhost:8080/"
        },
        "id": "A0TTX1J7sh8v",
        "outputId": "9eb0e11c-7c42-4183-ae87-387b1b0d7ef9"
      },
      "execution_count": 47,
      "outputs": [
        {
          "output_type": "stream",
          "name": "stdout",
          "text": [
            "Using PyTorch version:  2.0.1+cu118  Device:  cuda\n"
          ]
        }
      ]
    },
    {
      "cell_type": "code",
      "source": [
        "BATCH_SIZE = 32\n",
        "EPOCHS = 10"
      ],
      "metadata": {
        "id": "fzVkF-ADs2rK"
      },
      "execution_count": 48,
      "outputs": []
    },
    {
      "cell_type": "code",
      "source": [
        "''' 3. CIFAR-10 데이터 다운로드(Train set, Test set 분리하기) '''\n",
        "train_dataset = datasets.CIFAR10(root = \"/content/data/CIFAR_10\",\n",
        "                                 train = True,\n",
        "                                 download = True,\n",
        "                                 transform = transforms.Compose([\n",
        "                                      transforms.RandomHorizontalFlip(),\n",
        "                                      transforms.ToTensor(),\n",
        "                                      transforms.Normalize((0.5, 0.5, 0.5), (0.5, 0.5, 0.5))\n",
        "                                 ]))\n",
        "test_dataset = datasets.CIFAR10(root = \"/content/data/CIFAR_10\",\n",
        "                                train = False,\n",
        "                                transform = transforms.Compose([\n",
        "                                    transforms.RandomHorizontalFlip(),\n",
        "                                    transforms.ToTensor(),\n",
        "                                    transforms.Normalize((0.5, 0.5, 0.5), (0.5, 0.5, 0.5))\n",
        "                                ]))\n",
        "train_loader = torch.utils.data.DataLoader(dataset = train_dataset,\n",
        "                                           batch_size = BATCH_SIZE,\n",
        "                                           shuffle = True)\n",
        "test_loader = torch.utils.data.DataLoader(dataset = test_dataset,\n",
        "                                          batch_size = BATCH_SIZE,\n",
        "                                          shuffle = False)"
      ],
      "metadata": {
        "colab": {
          "base_uri": "https://localhost:8080/"
        },
        "id": "JHnXbMBss5GV",
        "outputId": "4d6920eb-b9e8-47bb-cb06-600f86abc0d6"
      },
      "execution_count": 49,
      "outputs": [
        {
          "output_type": "stream",
          "name": "stdout",
          "text": [
            "Files already downloaded and verified\n"
          ]
        }
      ]
    },
    {
      "cell_type": "code",
      "source": [
        "''' 4. 데이터 확인하기 (1) '''\n",
        "for (x_train, y_train) in train_loader:\n",
        "    print(\"x_train: \", x_train.size(), \" type: \", x_train.type())\n",
        "    print(\"y_train: \", y_train.size(), \" type: \", y_train.type())\n",
        "    break"
      ],
      "metadata": {
        "colab": {
          "base_uri": "https://localhost:8080/"
        },
        "id": "tGNoSOaktlEN",
        "outputId": "0e6a59e0-4c3b-47d0-c2c6-4f19577196e4"
      },
      "execution_count": 50,
      "outputs": [
        {
          "output_type": "stream",
          "name": "stdout",
          "text": [
            "x_train:  torch.Size([32, 3, 32, 32])  type:  torch.FloatTensor\n",
            "y_train:  torch.Size([32])  type:  torch.LongTensor\n"
          ]
        }
      ]
    },
    {
      "cell_type": "code",
      "source": [
        "''' 5. 데이터 확인하기 (2) '''\n",
        "pltsize = 1\n",
        "plt.figure(figsize=(10 * pltsize, pltsize))\n",
        "\n",
        "for i in range(10):\n",
        "    plt.subplot(1, 10, i + 1)\n",
        "    plt.axis('off')\n",
        "    plt.imshow(np.transpose(x_train[i],(1,2,0)))\n",
        "    plt.title(\"Class : \" + str(y_train[i].item()))"
      ],
      "metadata": {
        "colab": {
          "base_uri": "https://localhost:8080/",
          "height": 299
        },
        "id": "ldECbuxZt1V7",
        "outputId": "f834ee25-383f-4ae1-8921-5af1068ad509"
      },
      "execution_count": 51,
      "outputs": [
        {
          "output_type": "stream",
          "name": "stderr",
          "text": [
            "WARNING:matplotlib.image:Clipping input data to the valid range for imshow with RGB data ([0..1] for floats or [0..255] for integers).\n",
            "WARNING:matplotlib.image:Clipping input data to the valid range for imshow with RGB data ([0..1] for floats or [0..255] for integers).\n",
            "WARNING:matplotlib.image:Clipping input data to the valid range for imshow with RGB data ([0..1] for floats or [0..255] for integers).\n",
            "WARNING:matplotlib.image:Clipping input data to the valid range for imshow with RGB data ([0..1] for floats or [0..255] for integers).\n",
            "WARNING:matplotlib.image:Clipping input data to the valid range for imshow with RGB data ([0..1] for floats or [0..255] for integers).\n",
            "WARNING:matplotlib.image:Clipping input data to the valid range for imshow with RGB data ([0..1] for floats or [0..255] for integers).\n",
            "WARNING:matplotlib.image:Clipping input data to the valid range for imshow with RGB data ([0..1] for floats or [0..255] for integers).\n",
            "WARNING:matplotlib.image:Clipping input data to the valid range for imshow with RGB data ([0..1] for floats or [0..255] for integers).\n",
            "WARNING:matplotlib.image:Clipping input data to the valid range for imshow with RGB data ([0..1] for floats or [0..255] for integers).\n",
            "WARNING:matplotlib.image:Clipping input data to the valid range for imshow with RGB data ([0..1] for floats or [0..255] for integers).\n"
          ]
        },
        {
          "output_type": "display_data",
          "data": {
            "text/plain": [
              "<Figure size 1000x100 with 10 Axes>"
            ],
            "image/png": "[encoded data removed]"
          },
          "metadata": {}
        }
      ]
    },
    {
      "cell_type": "code",
      "source": [
        "''' 6. Multi Layer Perceptron(MLP) 모델 설계하기 '''\n",
        "class BasicBlock(nn.Module):\n",
        "    def __init__(self, in_planes, planes, stride=1):\n",
        "        super(BasicBlock, self).__init__()\n",
        "        self.conv1 = nn.Conv2d(in_planes, planes,\n",
        "                               kernel_size = 3,\n",
        "                               stride = stride,\n",
        "                               padding = 1,\n",
        "                               bias = False)\n",
        "        self.bn1 = nn.BatchNorm2d(planes)\n",
        "        self.conv2 = nn.Conv2d(planes, planes,\n",
        "                               kernel_size = 3,\n",
        "                               stride = 1,\n",
        "                               padding = 1,\n",
        "                               bias = False)\n",
        "        self.bn2 = nn.BatchNorm2d(planes)\n",
        "\n",
        "        self.shortcut = nn.Sequential()\n",
        "        if stride != 1 or in_planes != planes:\n",
        "            self.shortcut = nn.Sequential(\n",
        "                nn.Conv2d(in_planes, planes,\n",
        "                          kernel_size = 1,\n",
        "                          stride = stride,\n",
        "                          bias = False),\n",
        "                nn.BatchNorm2d(planes)\n",
        "            )\n",
        "\n",
        "    def forward(self, x):\n",
        "        out = F.relu(self.bn1(self.conv1(x)))\n",
        "        out = self.bn2(self.conv2(out))\n",
        "        out += self.shortcut(x)\n",
        "        out = F.relu(out)\n",
        "        return out\n",
        "\n",
        "class ResNet(nn.Module):\n",
        "    def __init__(self, num_classes = 10):\n",
        "        super(ResNet, self).__init__()\n",
        "        self.in_planes = 16\n",
        "\n",
        "        self.conv1 = nn.Conv2d(3, 16,\n",
        "                               kernel_size = 3,\n",
        "                               stride = 1,\n",
        "                               padding = 1,\n",
        "                               bias = False)\n",
        "        self.bn1 = nn.BatchNorm2d(16)\n",
        "        self.layer1 = self._make_layer(16, 2, stride=1)\n",
        "        self.layer2 = self._make_layer(32, 2, stride=2)\n",
        "        self.layer3 = self._make_layer(64, 2, stride=2)\n",
        "        self.linear = nn.Linear(64, num_classes)\n",
        "\n",
        "    def _make_layer(self, planes, num_blocks, stride):\n",
        "        strides = [stride] + [1] * (num_blocks - 1)\n",
        "        layers = []\n",
        "        for stride in strides:\n",
        "            layers.append(BasicBlock(self.in_planes, planes, stride))\n",
        "            self.in_planes = planes\n",
        "        return nn.Sequential(*layers)\n",
        "\n",
        "    def forward(self, x):\n",
        "        out = F.relu(self.bn1(self.conv1(x)))\n",
        "        out = self.layer1(out)\n",
        "        out = self.layer2(out)\n",
        "        out = self.layer3(out)\n",
        "        out = F.avg_pool2d(out, 8)\n",
        "        out = out.view(out.size(0), -1)\n",
        "        out = self.linear(out)\n",
        "        return out"
      ],
      "metadata": {
        "id": "FuMYH7kouTMo"
      },
      "execution_count": 52,
      "outputs": []
    },
    {
      "cell_type": "code",
      "source": [
        "''' 7. Optimizer, Object Function 설정하기 '''\n",
        "model = ResNet().to(DEVICE)\n",
        "optimizer = torch.optim.Adam(model.parameters(), lr = 0.001)\n",
        "criterion = nn.CrossEntropyLoss()\n",
        "\n",
        "print(model)"
      ],
      "metadata": {
        "colab": {
          "base_uri": "https://localhost:8080/"
        },
        "id": "M7_eGFOau_2V",
        "outputId": "1b4ac7fb-bb35-4f9c-bf00-775753ca1430"
      },
      "execution_count": 53,
      "outputs": [
        {
          "output_type": "stream",
          "name": "stdout",
          "text": [
            "ResNet(\n",
            "  (conv1): Conv2d(3, 16, kernel_size=(3, 3), stride=(1, 1), padding=(1, 1), bias=False)\n",
            "  (bn1): BatchNorm2d(16, eps=1e-05, momentum=0.1, affine=True, track_running_stats=True)\n",
            "  (layer1): Sequential(\n",
            "    (0): BasicBlock(\n",
            "      (conv1): Conv2d(16, 16, kernel_size=(3, 3), stride=(1, 1), padding=(1, 1), bias=False)\n",
            "      (bn1): BatchNorm2d(16, eps=1e-05, momentum=0.1, affine=True, track_running_stats=True)\n",
            "      (conv2): Conv2d(16, 16, kernel_size=(3, 3), stride=(1, 1), padding=(1, 1), bias=False)\n",
            "      (bn2): BatchNorm2d(16, eps=1e-05, momentum=0.1, affine=True, track_running_stats=True)\n",
            "      (shortcut): Sequential()\n",
            "    )\n",
            "    (1): BasicBlock(\n",
            "      (conv1): Conv2d(16, 16, kernel_size=(3, 3), stride=(1, 1), padding=(1, 1), bias=False)\n",
            "      (bn1): BatchNorm2d(16, eps=1e-05, momentum=0.1, affine=True, track_running_stats=True)\n",
            "      (conv2): Conv2d(16, 16, kernel_size=(3, 3), stride=(1, 1), padding=(1, 1), bias=False)\n",
            "      (bn2): BatchNorm2d(16, eps=1e-05, momentum=0.1, affine=True, track_running_stats=True)\n",
            "      (shortcut): Sequential()\n",
            "    )\n",
            "  )\n",
            "  (layer2): Sequential(\n",
            "    (0): BasicBlock(\n",
            "      (conv1): Conv2d(16, 32, kernel_size=(3, 3), stride=(2, 2), padding=(1, 1), bias=False)\n",
            "      (bn1): BatchNorm2d(32, eps=1e-05, momentum=0.1, affine=True, track_running_stats=True)\n",
            "      (conv2): Conv2d(32, 32, kernel_size=(3, 3), stride=(1, 1), padding=(1, 1), bias=False)\n",
            "      (bn2): BatchNorm2d(32, eps=1e-05, momentum=0.1, affine=True, track_running_stats=True)\n",
            "      (shortcut): Sequential(\n",
            "        (0): Conv2d(16, 32, kernel_size=(1, 1), stride=(2, 2), bias=False)\n",
            "        (1): BatchNorm2d(32, eps=1e-05, momentum=0.1, affine=True, track_running_stats=True)\n",
            "      )\n",
            "    )\n",
            "    (1): BasicBlock(\n",
            "      (conv1): Conv2d(32, 32, kernel_size=(3, 3), stride=(1, 1), padding=(1, 1), bias=False)\n",
            "      (bn1): BatchNorm2d(32, eps=1e-05, momentum=0.1, affine=True, track_running_stats=True)\n",
            "      (conv2): Conv2d(32, 32, kernel_size=(3, 3), stride=(1, 1), padding=(1, 1), bias=False)\n",
            "      (bn2): BatchNorm2d(32, eps=1e-05, momentum=0.1, affine=True, track_running_stats=True)\n",
            "      (shortcut): Sequential()\n",
            "    )\n",
            "  )\n",
            "  (layer3): Sequential(\n",
            "    (0): BasicBlock(\n",
            "      (conv1): Conv2d(32, 64, kernel_size=(3, 3), stride=(2, 2), padding=(1, 1), bias=False)\n",
            "      (bn1): BatchNorm2d(64, eps=1e-05, momentum=0.1, affine=True, track_running_stats=True)\n",
            "      (conv2): Conv2d(64, 64, kernel_size=(3, 3), stride=(1, 1), padding=(1, 1), bias=False)\n",
            "      (bn2): BatchNorm2d(64, eps=1e-05, momentum=0.1, affine=True, track_running_stats=True)\n",
            "      (shortcut): Sequential(\n",
            "        (0): Conv2d(32, 64, kernel_size=(1, 1), stride=(2, 2), bias=False)\n",
            "        (1): BatchNorm2d(64, eps=1e-05, momentum=0.1, affine=True, track_running_stats=True)\n",
            "      )\n",
            "    )\n",
            "    (1): BasicBlock(\n",
            "      (conv1): Conv2d(64, 64, kernel_size=(3, 3), stride=(1, 1), padding=(1, 1), bias=False)\n",
            "      (bn1): BatchNorm2d(64, eps=1e-05, momentum=0.1, affine=True, track_running_stats=True)\n",
            "      (conv2): Conv2d(64, 64, kernel_size=(3, 3), stride=(1, 1), padding=(1, 1), bias=False)\n",
            "      (bn2): BatchNorm2d(64, eps=1e-05, momentum=0.1, affine=True, track_running_stats=True)\n",
            "      (shortcut): Sequential()\n",
            "    )\n",
            "  )\n",
            "  (linear): Linear(in_features=64, out_features=10, bias=True)\n",
            ")\n"
          ]
        }
      ]
    },
    {
      "cell_type": "code",
      "source": [
        "''' 8. MLP 모델 학습을 진행하며 학습 데이터에 대한 모델 성능을 확인하는 함수 정의 '''\n",
        "def train(model, train_loader, optimizer, log_interval):\n",
        "    model.train()\n",
        "    for batch_idx, (image, label) in enumerate(train_loader):\n",
        "        image = image.to(DEVICE)\n",
        "        label = label.to(DEVICE)\n",
        "        optimizer.zero_grad()\n",
        "        output = model(image)\n",
        "        loss = criterion(output, label)\n",
        "        loss.backward()\n",
        "        optimizer.step()\n",
        "\n",
        "        if batch_idx % log_interval == 0:\n",
        "            print(\"Train Epoch: {} [{}/{} ({:.0f})%]\\tTrain Loss: {:.6f}\".format(\n",
        "                Epoch, batch_idx % len(image),\n",
        "                len(train_loader.dataset), 100 * batch_idx / len(train_loader),\n",
        "                loss.item()\n",
        "            ))"
      ],
      "metadata": {
        "id": "Y6pqcx5_vPUT"
      },
      "execution_count": 54,
      "outputs": []
    },
    {
      "cell_type": "code",
      "source": [
        "''' 9. 학습되는 과정 속에서 검증 데이터에 대한 모델 성능을 확인하는 함수 정의 '''\n",
        "def evaluate(model, test_loader):\n",
        "    model.eval()\n",
        "    test_loss = 0\n",
        "    correct = 0\n",
        "    with torch.no_grad():\n",
        "        for image, label in test_loader:\n",
        "            image = image.to(DEVICE)\n",
        "            label = label.to(DEVICE)\n",
        "            output = model(image)\n",
        "            test_loss += criterion(output, label).item()\n",
        "            prediction = output.max(1, keepdim = True)[1]\n",
        "            correct += prediction.eq(label.view_as(prediction)).sum().item()\n",
        "    test_loss /= len(test_loader.dataset)\n",
        "    test_accuracy = 100. * correct / len(test_loader.dataset)\n",
        "    return test_loss, test_accuracy"
      ],
      "metadata": {
        "id": "r0t2UPBjAsWX"
      },
      "execution_count": 55,
      "outputs": []
    },
    {
      "cell_type": "code",
      "source": [
        "''' 10. MLP 학습을 실행하며 Train, Test set의 Loss 및 Test set Accuracy 확인하기 '''\n",
        "for Epoch in range(1, EPOCHS + 1):\n",
        "    train(model, train_loader, optimizer, log_interval=200)\n",
        "    test_loss, test_accuracy = evaluate(model, test_loader)\n",
        "    print('\\n[EPOCH: {}], \\tTest Loss: {:.4f}, \\tTest Accuracy: {:.2f}% \\n'.format(Epoch, test_loss, test_accuracy))"
      ],
      "metadata": {
        "colab": {
          "base_uri": "https://localhost:8080/"
        },
        "id": "xmNbXWd1BtEj",
        "outputId": "00bacf4c-7f48-47ca-a7e2-a9519635b52f"
      },
      "execution_count": 56,
      "outputs": [
        {
          "output_type": "stream",
          "name": "stdout",
          "text": [
            "Train Epoch: 1 [0/50000 (0)]\tTrain Loss: 2.516037\n",
            "Train Epoch: 1 [8/50000 (13)]\tTrain Loss: 1.544539\n",
            "Train Epoch: 1 [16/50000 (26)]\tTrain Loss: 1.622286\n",
            "Train Epoch: 1 [24/50000 (38)]\tTrain Loss: 1.184800\n",
            "Train Epoch: 1 [0/50000 (51)]\tTrain Loss: 0.864735\n",
            "Train Epoch: 1 [8/50000 (64)]\tTrain Loss: 1.016149\n",
            "Train Epoch: 1 [16/50000 (77)]\tTrain Loss: 0.709875\n",
            "Train Epoch: 1 [24/50000 (90)]\tTrain Loss: 1.169422\n",
            "\n",
            "[EPOCH: 1], \tTest Loss: 0.0336, \tTest Accuracy: 60.52% \n",
            "\n",
            "Train Epoch: 2 [0/50000 (0)]\tTrain Loss: 1.302440\n",
            "Train Epoch: 2 [8/50000 (13)]\tTrain Loss: 0.831215\n",
            "Train Epoch: 2 [16/50000 (26)]\tTrain Loss: 0.809325\n",
            "Train Epoch: 2 [24/50000 (38)]\tTrain Loss: 1.151890\n",
            "Train Epoch: 2 [0/50000 (51)]\tTrain Loss: 1.104079\n",
            "Train Epoch: 2 [8/50000 (64)]\tTrain Loss: 1.336844\n",
            "Train Epoch: 2 [16/50000 (77)]\tTrain Loss: 1.029793\n",
            "Train Epoch: 2 [24/50000 (90)]\tTrain Loss: 0.711759\n",
            "\n",
            "[EPOCH: 2], \tTest Loss: 0.0271, \tTest Accuracy: 70.07% \n",
            "\n",
            "Train Epoch: 3 [0/50000 (0)]\tTrain Loss: 0.766153\n",
            "Train Epoch: 3 [8/50000 (13)]\tTrain Loss: 0.459685\n",
            "Train Epoch: 3 [16/50000 (26)]\tTrain Loss: 0.507265\n",
            "Train Epoch: 3 [24/50000 (38)]\tTrain Loss: 0.933267\n",
            "Train Epoch: 3 [0/50000 (51)]\tTrain Loss: 0.587904\n",
            "Train Epoch: 3 [8/50000 (64)]\tTrain Loss: 0.847367\n",
            "Train Epoch: 3 [16/50000 (77)]\tTrain Loss: 0.660071\n",
            "Train Epoch: 3 [24/50000 (90)]\tTrain Loss: 0.823366\n",
            "\n",
            "[EPOCH: 3], \tTest Loss: 0.0210, \tTest Accuracy: 76.14% \n",
            "\n",
            "Train Epoch: 4 [0/50000 (0)]\tTrain Loss: 0.567920\n",
            "Train Epoch: 4 [8/50000 (13)]\tTrain Loss: 0.937356\n",
            "Train Epoch: 4 [16/50000 (26)]\tTrain Loss: 0.741628\n",
            "Train Epoch: 4 [24/50000 (38)]\tTrain Loss: 0.716722\n",
            "Train Epoch: 4 [0/50000 (51)]\tTrain Loss: 0.882722\n",
            "Train Epoch: 4 [8/50000 (64)]\tTrain Loss: 0.565234\n",
            "Train Epoch: 4 [16/50000 (77)]\tTrain Loss: 0.575975\n",
            "Train Epoch: 4 [24/50000 (90)]\tTrain Loss: 0.502390\n",
            "\n",
            "[EPOCH: 4], \tTest Loss: 0.0202, \tTest Accuracy: 78.19% \n",
            "\n",
            "Train Epoch: 5 [0/50000 (0)]\tTrain Loss: 0.449052\n",
            "Train Epoch: 5 [8/50000 (13)]\tTrain Loss: 0.309392\n",
            "Train Epoch: 5 [16/50000 (26)]\tTrain Loss: 0.627666\n",
            "Train Epoch: 5 [24/50000 (38)]\tTrain Loss: 0.686302\n",
            "Train Epoch: 5 [0/50000 (51)]\tTrain Loss: 0.779972\n",
            "Train Epoch: 5 [8/50000 (64)]\tTrain Loss: 0.514318\n",
            "Train Epoch: 5 [16/50000 (77)]\tTrain Loss: 0.468351\n",
            "Train Epoch: 5 [24/50000 (90)]\tTrain Loss: 0.423455\n",
            "\n",
            "[EPOCH: 5], \tTest Loss: 0.0184, \tTest Accuracy: 79.59% \n",
            "\n",
            "Train Epoch: 6 [0/50000 (0)]\tTrain Loss: 0.560147\n",
            "Train Epoch: 6 [8/50000 (13)]\tTrain Loss: 0.311868\n",
            "Train Epoch: 6 [16/50000 (26)]\tTrain Loss: 0.373322\n",
            "Train Epoch: 6 [24/50000 (38)]\tTrain Loss: 0.526169\n",
            "Train Epoch: 6 [0/50000 (51)]\tTrain Loss: 0.675435\n",
            "Train Epoch: 6 [8/50000 (64)]\tTrain Loss: 0.896157\n",
            "Train Epoch: 6 [16/50000 (77)]\tTrain Loss: 0.461136\n",
            "Train Epoch: 6 [24/50000 (90)]\tTrain Loss: 0.471646\n",
            "\n",
            "[EPOCH: 6], \tTest Loss: 0.0200, \tTest Accuracy: 78.10% \n",
            "\n",
            "Train Epoch: 7 [0/50000 (0)]\tTrain Loss: 0.364253\n",
            "Train Epoch: 7 [8/50000 (13)]\tTrain Loss: 0.349344\n",
            "Train Epoch: 7 [16/50000 (26)]\tTrain Loss: 0.521991\n",
            "Train Epoch: 7 [24/50000 (38)]\tTrain Loss: 0.550672\n",
            "Train Epoch: 7 [0/50000 (51)]\tTrain Loss: 0.399665\n",
            "Train Epoch: 7 [8/50000 (64)]\tTrain Loss: 0.668958\n",
            "Train Epoch: 7 [16/50000 (77)]\tTrain Loss: 0.550208\n",
            "Train Epoch: 7 [24/50000 (90)]\tTrain Loss: 0.608237\n",
            "\n",
            "[EPOCH: 7], \tTest Loss: 0.0172, \tTest Accuracy: 81.29% \n",
            "\n",
            "Train Epoch: 8 [0/50000 (0)]\tTrain Loss: 0.493365\n",
            "Train Epoch: 8 [8/50000 (13)]\tTrain Loss: 0.331231\n",
            "Train Epoch: 8 [16/50000 (26)]\tTrain Loss: 0.553746\n",
            "Train Epoch: 8 [24/50000 (38)]\tTrain Loss: 0.249473\n",
            "Train Epoch: 8 [0/50000 (51)]\tTrain Loss: 0.423382\n",
            "Train Epoch: 8 [8/50000 (64)]\tTrain Loss: 0.531189\n",
            "Train Epoch: 8 [16/50000 (77)]\tTrain Loss: 0.257407\n",
            "Train Epoch: 8 [24/50000 (90)]\tTrain Loss: 0.744778\n",
            "\n",
            "[EPOCH: 8], \tTest Loss: 0.0183, \tTest Accuracy: 80.46% \n",
            "\n",
            "Train Epoch: 9 [0/50000 (0)]\tTrain Loss: 0.308568\n",
            "Train Epoch: 9 [8/50000 (13)]\tTrain Loss: 0.451420\n",
            "Train Epoch: 9 [16/50000 (26)]\tTrain Loss: 0.515361\n",
            "Train Epoch: 9 [24/50000 (38)]\tTrain Loss: 0.715311\n",
            "Train Epoch: 9 [0/50000 (51)]\tTrain Loss: 0.412667\n",
            "Train Epoch: 9 [8/50000 (64)]\tTrain Loss: 0.239681\n",
            "Train Epoch: 9 [16/50000 (77)]\tTrain Loss: 0.522868\n",
            "Train Epoch: 9 [24/50000 (90)]\tTrain Loss: 0.264483\n",
            "\n",
            "[EPOCH: 9], \tTest Loss: 0.0161, \tTest Accuracy: 82.83% \n",
            "\n",
            "Train Epoch: 10 [0/50000 (0)]\tTrain Loss: 0.328741\n",
            "Train Epoch: 10 [8/50000 (13)]\tTrain Loss: 0.576842\n",
            "Train Epoch: 10 [16/50000 (26)]\tTrain Loss: 0.160006\n",
            "Train Epoch: 10 [24/50000 (38)]\tTrain Loss: 0.582863\n",
            "Train Epoch: 10 [0/50000 (51)]\tTrain Loss: 0.512445\n",
            "Train Epoch: 10 [8/50000 (64)]\tTrain Loss: 0.458928\n",
            "Train Epoch: 10 [16/50000 (77)]\tTrain Loss: 0.191096\n",
            "Train Epoch: 10 [24/50000 (90)]\tTrain Loss: 0.705595\n",
            "\n",
            "[EPOCH: 10], \tTest Loss: 0.0157, \tTest Accuracy: 82.61% \n",
            "\n"
          ]
        }
      ]
    }
  ]
}