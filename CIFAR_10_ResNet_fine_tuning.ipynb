{
  "nbformat": 4,
  "nbformat_minor": 0,
  "metadata": {
    "colab": {
      "provenance": [],
      "gpuType": "T4",
      "authorship_tag": "ABX9TyOe7B4MrxeLOT2lXswhtgNf"
    },
    "kernelspec": {
      "name": "python3",
      "display_name": "Python 3"
    },
    "language_info": {
      "name": "python"
    },
    "accelerator": "GPU"
  },
  "cells": [
    {
      "cell_type": "markdown",
      "source": [
        "### CIFAR-10 데이터에 ResNet 모델을 적용해 성능 향상 시키기"
      ],
      "metadata": {
        "id": "0rnjoeKkr_vI"
      }
    },
    {
      "cell_type": "code",
      "execution_count": 57,
      "metadata": {
        "id": "OhHtHb9pr10x"
      },
      "outputs": [],
      "source": [
        "''' 1. Import Module '''\n",
        "import numpy as np\n",
        "import matplotlib.pyplot as plt\n",
        "\n",
        "import torch\n",
        "import torch.nn as nn\n",
        "import torch.nn.functional as F\n",
        "from torchvision import transforms, datasets"
      ]
    },
    {
      "cell_type": "code",
      "source": [
        "''' 2. 딥러닝 모델을 설계할 때 활용하는 장비 확인 '''\n",
        "if torch.cuda.is_available():\n",
        "    DEVICE = torch.device('cuda')\n",
        "else:\n",
        "    DEVICE = torch.device('cpu')\n",
        "\n",
        "print(\"Using PyTorch version: \", torch.__version__, \" Device: \", DEVICE)"
      ],
      "metadata": {
        "colab": {
          "base_uri": "https://localhost:8080/"
        },
        "id": "A0TTX1J7sh8v",
        "outputId": "1285d912-4094-4064-8ecc-2ac5b911b6ef"
      },
      "execution_count": 58,
      "outputs": [
        {
          "output_type": "stream",
          "name": "stdout",
          "text": [
            "Using PyTorch version:  2.0.1+cu118  Device:  cuda\n"
          ]
        }
      ]
    },
    {
      "cell_type": "code",
      "source": [
        "BATCH_SIZE = 32\n",
        "EPOCHS = 10"
      ],
      "metadata": {
        "id": "fzVkF-ADs2rK"
      },
      "execution_count": 59,
      "outputs": []
    },
    {
      "cell_type": "code",
      "source": [
        "''' 3. CIFAR-10 데이터 다운로드(Train set, Test set 분리하기) '''\n",
        "train_dataset = datasets.CIFAR10(root = \"/content/data/CIFAR_10\",\n",
        "                                 train = True,\n",
        "                                 download = True,\n",
        "                                 transform = transforms.Compose([\n",
        "                                      transforms.RandomHorizontalFlip(),\n",
        "                                      transforms.ToTensor(),\n",
        "                                      transforms.Normalize((0.5, 0.5, 0.5), (0.5, 0.5, 0.5))\n",
        "                                 ]))\n",
        "test_dataset = datasets.CIFAR10(root = \"/content/data/CIFAR_10\",\n",
        "                                train = False,\n",
        "                                transform = transforms.Compose([\n",
        "                                    transforms.RandomHorizontalFlip(),\n",
        "                                    transforms.ToTensor(),\n",
        "                                    transforms.Normalize((0.5, 0.5, 0.5), (0.5, 0.5, 0.5))\n",
        "                                ]))\n",
        "train_loader = torch.utils.data.DataLoader(dataset = train_dataset,\n",
        "                                           batch_size = BATCH_SIZE,\n",
        "                                           shuffle = True)\n",
        "test_loader = torch.utils.data.DataLoader(dataset = test_dataset,\n",
        "                                          batch_size = BATCH_SIZE,\n",
        "                                          shuffle = False)"
      ],
      "metadata": {
        "colab": {
          "base_uri": "https://localhost:8080/"
        },
        "id": "JHnXbMBss5GV",
        "outputId": "81133c5b-3647-43ba-eeac-1a5a58ef754d"
      },
      "execution_count": 60,
      "outputs": [
        {
          "output_type": "stream",
          "name": "stdout",
          "text": [
            "Files already downloaded and verified\n"
          ]
        }
      ]
    },
    {
      "cell_type": "code",
      "source": [
        "''' 4. 데이터 확인하기 (1) '''\n",
        "for (x_train, y_train) in train_loader:\n",
        "    print(\"x_train: \", x_train.size(), \" type: \", x_train.type())\n",
        "    print(\"y_train: \", y_train.size(), \" type: \", y_train.type())\n",
        "    break"
      ],
      "metadata": {
        "colab": {
          "base_uri": "https://localhost:8080/"
        },
        "id": "tGNoSOaktlEN",
        "outputId": "55514034-f49f-45ce-dd97-d72d9ef2d5cf"
      },
      "execution_count": 61,
      "outputs": [
        {
          "output_type": "stream",
          "name": "stdout",
          "text": [
            "x_train:  torch.Size([32, 3, 32, 32])  type:  torch.FloatTensor\n",
            "y_train:  torch.Size([32])  type:  torch.LongTensor\n"
          ]
        }
      ]
    },
    {
      "cell_type": "code",
      "source": [
        "''' 5. 데이터 확인하기 (2) '''\n",
        "pltsize = 1\n",
        "plt.figure(figsize=(10 * pltsize, pltsize))\n",
        "\n",
        "for i in range(10):\n",
        "    plt.subplot(1, 10, i + 1)\n",
        "    plt.axis('off')\n",
        "    plt.imshow(np.transpose(x_train[i],(1,2,0)))\n",
        "    plt.title(\"Class : \" + str(y_train[i].item()))"
      ],
      "metadata": {
        "colab": {
          "base_uri": "https://localhost:8080/",
          "height": 299
        },
        "id": "ldECbuxZt1V7",
        "outputId": "66442e61-26dd-4864-af94-46999a7ba2bf"
      },
      "execution_count": 62,
      "outputs": [
        {
          "output_type": "stream",
          "name": "stderr",
          "text": [
            "WARNING:matplotlib.image:Clipping input data to the valid range for imshow with RGB data ([0..1] for floats or [0..255] for integers).\n",
            "WARNING:matplotlib.image:Clipping input data to the valid range for imshow with RGB data ([0..1] for floats or [0..255] for integers).\n",
            "WARNING:matplotlib.image:Clipping input data to the valid range for imshow with RGB data ([0..1] for floats or [0..255] for integers).\n",
            "WARNING:matplotlib.image:Clipping input data to the valid range for imshow with RGB data ([0..1] for floats or [0..255] for integers).\n",
            "WARNING:matplotlib.image:Clipping input data to the valid range for imshow with RGB data ([0..1] for floats or [0..255] for integers).\n",
            "WARNING:matplotlib.image:Clipping input data to the valid range for imshow with RGB data ([0..1] for floats or [0..255] for integers).\n",
            "WARNING:matplotlib.image:Clipping input data to the valid range for imshow with RGB data ([0..1] for floats or [0..255] for integers).\n",
            "WARNING:matplotlib.image:Clipping input data to the valid range for imshow with RGB data ([0..1] for floats or [0..255] for integers).\n",
            "WARNING:matplotlib.image:Clipping input data to the valid range for imshow with RGB data ([0..1] for floats or [0..255] for integers).\n",
            "WARNING:matplotlib.image:Clipping input data to the valid range for imshow with RGB data ([0..1] for floats or [0..255] for integers).\n"
          ]
        },
        {
          "output_type": "display_data",
          "data": {
            "text/plain": [
              "<Figure size 1000x100 with 10 Axes>"
            ],
            "image/png": "[encoded data removed]"
          },
          "metadata": {}
        }
      ]
    },
    {
      "cell_type": "code",
      "source": [
        "''' 6. Multi Layer Perceptron(MLP) 모델 설계하기 '''\n",
        "import torchvision.models as models\n",
        "model = models.resnet34(pretrained = False)\n",
        "num_ftrs = model.fc.in_features\n",
        "model.fc = nn.Linear(num_ftrs, 10)\n",
        "model = model.cuda()"
      ],
      "metadata": {
        "id": "FuMYH7kouTMo",
        "colab": {
          "base_uri": "https://localhost:8080/"
        },
        "outputId": "807ce27d-99fe-4ee1-af71-a5feb438e6d8"
      },
      "execution_count": 64,
      "outputs": [
        {
          "output_type": "stream",
          "name": "stderr",
          "text": [
            "/usr/local/lib/python3.10/dist-packages/torchvision/models/_utils.py:208: UserWarning: The parameter 'pretrained' is deprecated since 0.13 and may be removed in the future, please use 'weights' instead.\n",
            "  warnings.warn(\n",
            "/usr/local/lib/python3.10/dist-packages/torchvision/models/_utils.py:223: UserWarning: Arguments other than a weight enum or `None` for 'weights' are deprecated since 0.13 and may be removed in the future. The current behavior is equivalent to passing `weights=None`.\n",
            "  warnings.warn(msg)\n"
          ]
        }
      ]
    },
    {
      "cell_type": "code",
      "source": [
        "''' 7. Optimizer, Object Function 설정하기 '''\n",
        "#model = ResNet().to(DEVICE)\n",
        "optimizer = torch.optim.Adam(model.parameters(), lr = 0.001)\n",
        "criterion = nn.CrossEntropyLoss()\n",
        "\n",
        "print(model)"
      ],
      "metadata": {
        "colab": {
          "base_uri": "https://localhost:8080/"
        },
        "id": "M7_eGFOau_2V",
        "outputId": "08d8ac0c-b2d5-4ca1-a1b4-7c86f675151f"
      },
      "execution_count": 65,
      "outputs": [
        {
          "output_type": "stream",
          "name": "stdout",
          "text": [
            "ResNet(\n",
            "  (conv1): Conv2d(3, 64, kernel_size=(7, 7), stride=(2, 2), padding=(3, 3), bias=False)\n",
            "  (bn1): BatchNorm2d(64, eps=1e-05, momentum=0.1, affine=True, track_running_stats=True)\n",
            "  (relu): ReLU(inplace=True)\n",
            "  (maxpool): MaxPool2d(kernel_size=3, stride=2, padding=1, dilation=1, ceil_mode=False)\n",
            "  (layer1): Sequential(\n",
            "    (0): BasicBlock(\n",
            "      (conv1): Conv2d(64, 64, kernel_size=(3, 3), stride=(1, 1), padding=(1, 1), bias=False)\n",
            "      (bn1): BatchNorm2d(64, eps=1e-05, momentum=0.1, affine=True, track_running_stats=True)\n",
            "      (relu): ReLU(inplace=True)\n",
            "      (conv2): Conv2d(64, 64, kernel_size=(3, 3), stride=(1, 1), padding=(1, 1), bias=False)\n",
            "      (bn2): BatchNorm2d(64, eps=1e-05, momentum=0.1, affine=True, track_running_stats=True)\n",
            "    )\n",
            "    (1): BasicBlock(\n",
            "      (conv1): Conv2d(64, 64, kernel_size=(3, 3), stride=(1, 1), padding=(1, 1), bias=False)\n",
            "      (bn1): BatchNorm2d(64, eps=1e-05, momentum=0.1, affine=True, track_running_stats=True)\n",
            "      (relu): ReLU(inplace=True)\n",
            "      (conv2): Conv2d(64, 64, kernel_size=(3, 3), stride=(1, 1), padding=(1, 1), bias=False)\n",
            "      (bn2): BatchNorm2d(64, eps=1e-05, momentum=0.1, affine=True, track_running_stats=True)\n",
            "    )\n",
            "    (2): BasicBlock(\n",
            "      (conv1): Conv2d(64, 64, kernel_size=(3, 3), stride=(1, 1), padding=(1, 1), bias=False)\n",
            "      (bn1): BatchNorm2d(64, eps=1e-05, momentum=0.1, affine=True, track_running_stats=True)\n",
            "      (relu): ReLU(inplace=True)\n",
            "      (conv2): Conv2d(64, 64, kernel_size=(3, 3), stride=(1, 1), padding=(1, 1), bias=False)\n",
            "      (bn2): BatchNorm2d(64, eps=1e-05, momentum=0.1, affine=True, track_running_stats=True)\n",
            "    )\n",
            "  )\n",
            "  (layer2): Sequential(\n",
            "    (0): BasicBlock(\n",
            "      (conv1): Conv2d(64, 128, kernel_size=(3, 3), stride=(2, 2), padding=(1, 1), bias=False)\n",
            "      (bn1): BatchNorm2d(128, eps=1e-05, momentum=0.1, affine=True, track_running_stats=True)\n",
            "      (relu): ReLU(inplace=True)\n",
            "      (conv2): Conv2d(128, 128, kernel_size=(3, 3), stride=(1, 1), padding=(1, 1), bias=False)\n",
            "      (bn2): BatchNorm2d(128, eps=1e-05, momentum=0.1, affine=True, track_running_stats=True)\n",
            "      (downsample): Sequential(\n",
            "        (0): Conv2d(64, 128, kernel_size=(1, 1), stride=(2, 2), bias=False)\n",
            "        (1): BatchNorm2d(128, eps=1e-05, momentum=0.1, affine=True, track_running_stats=True)\n",
            "      )\n",
            "    )\n",
            "    (1): BasicBlock(\n",
            "      (conv1): Conv2d(128, 128, kernel_size=(3, 3), stride=(1, 1), padding=(1, 1), bias=False)\n",
            "      (bn1): BatchNorm2d(128, eps=1e-05, momentum=0.1, affine=True, track_running_stats=True)\n",
            "      (relu): ReLU(inplace=True)\n",
            "      (conv2): Conv2d(128, 128, kernel_size=(3, 3), stride=(1, 1), padding=(1, 1), bias=False)\n",
            "      (bn2): BatchNorm2d(128, eps=1e-05, momentum=0.1, affine=True, track_running_stats=True)\n",
            "    )\n",
            "    (2): BasicBlock(\n",
            "      (conv1): Conv2d(128, 128, kernel_size=(3, 3), stride=(1, 1), padding=(1, 1), bias=False)\n",
            "      (bn1): BatchNorm2d(128, eps=1e-05, momentum=0.1, affine=True, track_running_stats=True)\n",
            "      (relu): ReLU(inplace=True)\n",
            "      (conv2): Conv2d(128, 128, kernel_size=(3, 3), stride=(1, 1), padding=(1, 1), bias=False)\n",
            "      (bn2): BatchNorm2d(128, eps=1e-05, momentum=0.1, affine=True, track_running_stats=True)\n",
            "    )\n",
            "    (3): BasicBlock(\n",
            "      (conv1): Conv2d(128, 128, kernel_size=(3, 3), stride=(1, 1), padding=(1, 1), bias=False)\n",
            "      (bn1): BatchNorm2d(128, eps=1e-05, momentum=0.1, affine=True, track_running_stats=True)\n",
            "      (relu): ReLU(inplace=True)\n",
            "      (conv2): Conv2d(128, 128, kernel_size=(3, 3), stride=(1, 1), padding=(1, 1), bias=False)\n",
            "      (bn2): BatchNorm2d(128, eps=1e-05, momentum=0.1, affine=True, track_running_stats=True)\n",
            "    )\n",
            "  )\n",
            "  (layer3): Sequential(\n",
            "    (0): BasicBlock(\n",
            "      (conv1): Conv2d(128, 256, kernel_size=(3, 3), stride=(2, 2), padding=(1, 1), bias=False)\n",
            "      (bn1): BatchNorm2d(256, eps=1e-05, momentum=0.1, affine=True, track_running_stats=True)\n",
            "      (relu): ReLU(inplace=True)\n",
            "      (conv2): Conv2d(256, 256, kernel_size=(3, 3), stride=(1, 1), padding=(1, 1), bias=False)\n",
            "      (bn2): BatchNorm2d(256, eps=1e-05, momentum=0.1, affine=True, track_running_stats=True)\n",
            "      (downsample): Sequential(\n",
            "        (0): Conv2d(128, 256, kernel_size=(1, 1), stride=(2, 2), bias=False)\n",
            "        (1): BatchNorm2d(256, eps=1e-05, momentum=0.1, affine=True, track_running_stats=True)\n",
            "      )\n",
            "    )\n",
            "    (1): BasicBlock(\n",
            "      (conv1): Conv2d(256, 256, kernel_size=(3, 3), stride=(1, 1), padding=(1, 1), bias=False)\n",
            "      (bn1): BatchNorm2d(256, eps=1e-05, momentum=0.1, affine=True, track_running_stats=True)\n",
            "      (relu): ReLU(inplace=True)\n",
            "      (conv2): Conv2d(256, 256, kernel_size=(3, 3), stride=(1, 1), padding=(1, 1), bias=False)\n",
            "      (bn2): BatchNorm2d(256, eps=1e-05, momentum=0.1, affine=True, track_running_stats=True)\n",
            "    )\n",
            "    (2): BasicBlock(\n",
            "      (conv1): Conv2d(256, 256, kernel_size=(3, 3), stride=(1, 1), padding=(1, 1), bias=False)\n",
            "      (bn1): BatchNorm2d(256, eps=1e-05, momentum=0.1, affine=True, track_running_stats=True)\n",
            "      (relu): ReLU(inplace=True)\n",
            "      (conv2): Conv2d(256, 256, kernel_size=(3, 3), stride=(1, 1), padding=(1, 1), bias=False)\n",
            "      (bn2): BatchNorm2d(256, eps=1e-05, momentum=0.1, affine=True, track_running_stats=True)\n",
            "    )\n",
            "    (3): BasicBlock(\n",
            "      (conv1): Conv2d(256, 256, kernel_size=(3, 3), stride=(1, 1), padding=(1, 1), bias=False)\n",
            "      (bn1): BatchNorm2d(256, eps=1e-05, momentum=0.1, affine=True, track_running_stats=True)\n",
            "      (relu): ReLU(inplace=True)\n",
            "      (conv2): Conv2d(256, 256, kernel_size=(3, 3), stride=(1, 1), padding=(1, 1), bias=False)\n",
            "      (bn2): BatchNorm2d(256, eps=1e-05, momentum=0.1, affine=True, track_running_stats=True)\n",
            "    )\n",
            "    (4): BasicBlock(\n",
            "      (conv1): Conv2d(256, 256, kernel_size=(3, 3), stride=(1, 1), padding=(1, 1), bias=False)\n",
            "      (bn1): BatchNorm2d(256, eps=1e-05, momentum=0.1, affine=True, track_running_stats=True)\n",
            "      (relu): ReLU(inplace=True)\n",
            "      (conv2): Conv2d(256, 256, kernel_size=(3, 3), stride=(1, 1), padding=(1, 1), bias=False)\n",
            "      (bn2): BatchNorm2d(256, eps=1e-05, momentum=0.1, affine=True, track_running_stats=True)\n",
            "    )\n",
            "    (5): BasicBlock(\n",
            "      (conv1): Conv2d(256, 256, kernel_size=(3, 3), stride=(1, 1), padding=(1, 1), bias=False)\n",
            "      (bn1): BatchNorm2d(256, eps=1e-05, momentum=0.1, affine=True, track_running_stats=True)\n",
            "      (relu): ReLU(inplace=True)\n",
            "      (conv2): Conv2d(256, 256, kernel_size=(3, 3), stride=(1, 1), padding=(1, 1), bias=False)\n",
            "      (bn2): BatchNorm2d(256, eps=1e-05, momentum=0.1, affine=True, track_running_stats=True)\n",
            "    )\n",
            "  )\n",
            "  (layer4): Sequential(\n",
            "    (0): BasicBlock(\n",
            "      (conv1): Conv2d(256, 512, kernel_size=(3, 3), stride=(2, 2), padding=(1, 1), bias=False)\n",
            "      (bn1): BatchNorm2d(512, eps=1e-05, momentum=0.1, affine=True, track_running_stats=True)\n",
            "      (relu): ReLU(inplace=True)\n",
            "      (conv2): Conv2d(512, 512, kernel_size=(3, 3), stride=(1, 1), padding=(1, 1), bias=False)\n",
            "      (bn2): BatchNorm2d(512, eps=1e-05, momentum=0.1, affine=True, track_running_stats=True)\n",
            "      (downsample): Sequential(\n",
            "        (0): Conv2d(256, 512, kernel_size=(1, 1), stride=(2, 2), bias=False)\n",
            "        (1): BatchNorm2d(512, eps=1e-05, momentum=0.1, affine=True, track_running_stats=True)\n",
            "      )\n",
            "    )\n",
            "    (1): BasicBlock(\n",
            "      (conv1): Conv2d(512, 512, kernel_size=(3, 3), stride=(1, 1), padding=(1, 1), bias=False)\n",
            "      (bn1): BatchNorm2d(512, eps=1e-05, momentum=0.1, affine=True, track_running_stats=True)\n",
            "      (relu): ReLU(inplace=True)\n",
            "      (conv2): Conv2d(512, 512, kernel_size=(3, 3), stride=(1, 1), padding=(1, 1), bias=False)\n",
            "      (bn2): BatchNorm2d(512, eps=1e-05, momentum=0.1, affine=True, track_running_stats=True)\n",
            "    )\n",
            "    (2): BasicBlock(\n",
            "      (conv1): Conv2d(512, 512, kernel_size=(3, 3), stride=(1, 1), padding=(1, 1), bias=False)\n",
            "      (bn1): BatchNorm2d(512, eps=1e-05, momentum=0.1, affine=True, track_running_stats=True)\n",
            "      (relu): ReLU(inplace=True)\n",
            "      (conv2): Conv2d(512, 512, kernel_size=(3, 3), stride=(1, 1), padding=(1, 1), bias=False)\n",
            "      (bn2): BatchNorm2d(512, eps=1e-05, momentum=0.1, affine=True, track_running_stats=True)\n",
            "    )\n",
            "  )\n",
            "  (avgpool): AdaptiveAvgPool2d(output_size=(1, 1))\n",
            "  (fc): Linear(in_features=512, out_features=10, bias=True)\n",
            ")\n"
          ]
        }
      ]
    },
    {
      "cell_type": "code",
      "source": [
        "''' 8. MLP 모델 학습을 진행하며 학습 데이터에 대한 모델 성능을 확인하는 함수 정의 '''\n",
        "def train(model, train_loader, optimizer, log_interval):\n",
        "    model.train()\n",
        "    for batch_idx, (image, label) in enumerate(train_loader):\n",
        "        image = image.to(DEVICE)\n",
        "        label = label.to(DEVICE)\n",
        "        optimizer.zero_grad()\n",
        "        output = model(image)\n",
        "        loss = criterion(output, label)\n",
        "        loss.backward()\n",
        "        optimizer.step()\n",
        "\n",
        "        if batch_idx % log_interval == 0:\n",
        "            print(\"Train Epoch: {} [{}/{} ({:.0f})%]\\tTrain Loss: {:.6f}\".format(\n",
        "                Epoch, batch_idx % len(image),\n",
        "                len(train_loader.dataset), 100 * batch_idx / len(train_loader),\n",
        "                loss.item()\n",
        "            ))"
      ],
      "metadata": {
        "id": "Y6pqcx5_vPUT"
      },
      "execution_count": 66,
      "outputs": []
    },
    {
      "cell_type": "code",
      "source": [
        "''' 9. 학습되는 과정 속에서 검증 데이터에 대한 모델 성능을 확인하는 함수 정의 '''\n",
        "def evaluate(model, test_loader):\n",
        "    model.eval()\n",
        "    test_loss = 0\n",
        "    correct = 0\n",
        "    with torch.no_grad():\n",
        "        for image, label in test_loader:\n",
        "            image = image.to(DEVICE)\n",
        "            label = label.to(DEVICE)\n",
        "            output = model(image)\n",
        "            test_loss += criterion(output, label).item()\n",
        "            prediction = output.max(1, keepdim = True)[1]\n",
        "            correct += prediction.eq(label.view_as(prediction)).sum().item()\n",
        "    test_loss /= len(test_loader.dataset)\n",
        "    test_accuracy = 100. * correct / len(test_loader.dataset)\n",
        "    return test_loss, test_accuracy"
      ],
      "metadata": {
        "id": "r0t2UPBjAsWX"
      },
      "execution_count": 67,
      "outputs": []
    },
    {
      "cell_type": "code",
      "source": [
        "''' 10. MLP 학습을 실행하며 Train, Test set의 Loss 및 Test set Accuracy 확인하기 '''\n",
        "for Epoch in range(1, EPOCHS + 1):\n",
        "    train(model, train_loader, optimizer, log_interval=200)\n",
        "    test_loss, test_accuracy = evaluate(model, test_loader)\n",
        "    print('\\n[EPOCH: {}], \\tTest Loss: {:.4f}, \\tTest Accuracy: {:.2f}% \\n'.format(Epoch, test_loss, test_accuracy))"
      ],
      "metadata": {
        "colab": {
          "base_uri": "https://localhost:8080/"
        },
        "id": "xmNbXWd1BtEj",
        "outputId": "5af2adc4-1b41-4102-cb10-98bb52b10152"
      },
      "execution_count": 68,
      "outputs": [
        {
          "output_type": "stream",
          "name": "stdout",
          "text": [
            "Train Epoch: 1 [0/50000 (0)%]\tTrain Loss: 2.715102\n",
            "Train Epoch: 1 [8/50000 (13)%]\tTrain Loss: 1.537018\n",
            "Train Epoch: 1 [16/50000 (26)%]\tTrain Loss: 1.589090\n",
            "Train Epoch: 1 [24/50000 (38)%]\tTrain Loss: 1.295837\n",
            "Train Epoch: 1 [0/50000 (51)%]\tTrain Loss: 1.497964\n",
            "Train Epoch: 1 [8/50000 (64)%]\tTrain Loss: 1.477927\n",
            "Train Epoch: 1 [16/50000 (77)%]\tTrain Loss: 1.375661\n",
            "Train Epoch: 1 [24/50000 (90)%]\tTrain Loss: 1.407346\n",
            "\n",
            "[EPOCH: 1], \tTest Loss: 0.0383, \tTest Accuracy: 56.58% \n",
            "\n",
            "Train Epoch: 2 [0/50000 (0)%]\tTrain Loss: 1.152402\n",
            "Train Epoch: 2 [8/50000 (13)%]\tTrain Loss: 1.143715\n",
            "Train Epoch: 2 [16/50000 (26)%]\tTrain Loss: 0.948962\n",
            "Train Epoch: 2 [24/50000 (38)%]\tTrain Loss: 1.040661\n",
            "Train Epoch: 2 [0/50000 (51)%]\tTrain Loss: 0.683536\n",
            "Train Epoch: 2 [8/50000 (64)%]\tTrain Loss: 1.291378\n",
            "Train Epoch: 2 [16/50000 (77)%]\tTrain Loss: 1.078713\n",
            "Train Epoch: 2 [24/50000 (90)%]\tTrain Loss: 1.108311\n",
            "\n",
            "[EPOCH: 2], \tTest Loss: 0.0325, \tTest Accuracy: 63.75% \n",
            "\n",
            "Train Epoch: 3 [0/50000 (0)%]\tTrain Loss: 0.707809\n",
            "Train Epoch: 3 [8/50000 (13)%]\tTrain Loss: 0.901139\n",
            "Train Epoch: 3 [16/50000 (26)%]\tTrain Loss: 0.889476\n",
            "Train Epoch: 3 [24/50000 (38)%]\tTrain Loss: 0.880099\n",
            "Train Epoch: 3 [0/50000 (51)%]\tTrain Loss: 1.038671\n",
            "Train Epoch: 3 [8/50000 (64)%]\tTrain Loss: 0.839640\n",
            "Train Epoch: 3 [16/50000 (77)%]\tTrain Loss: 1.075427\n",
            "Train Epoch: 3 [24/50000 (90)%]\tTrain Loss: 0.929744\n",
            "\n",
            "[EPOCH: 3], \tTest Loss: 0.0280, \tTest Accuracy: 69.07% \n",
            "\n",
            "Train Epoch: 4 [0/50000 (0)%]\tTrain Loss: 0.844137\n",
            "Train Epoch: 4 [8/50000 (13)%]\tTrain Loss: 0.644451\n",
            "Train Epoch: 4 [16/50000 (26)%]\tTrain Loss: 0.562960\n",
            "Train Epoch: 4 [24/50000 (38)%]\tTrain Loss: 0.787101\n",
            "Train Epoch: 4 [0/50000 (51)%]\tTrain Loss: 0.870159\n",
            "Train Epoch: 4 [8/50000 (64)%]\tTrain Loss: 0.958516\n",
            "Train Epoch: 4 [16/50000 (77)%]\tTrain Loss: 0.587040\n",
            "Train Epoch: 4 [24/50000 (90)%]\tTrain Loss: 0.627246\n",
            "\n",
            "[EPOCH: 4], \tTest Loss: 0.0257, \tTest Accuracy: 71.58% \n",
            "\n",
            "Train Epoch: 5 [0/50000 (0)%]\tTrain Loss: 0.730702\n",
            "Train Epoch: 5 [8/50000 (13)%]\tTrain Loss: 0.409396\n",
            "Train Epoch: 5 [16/50000 (26)%]\tTrain Loss: 0.587858\n",
            "Train Epoch: 5 [24/50000 (38)%]\tTrain Loss: 0.905130\n",
            "Train Epoch: 5 [0/50000 (51)%]\tTrain Loss: 0.796558\n",
            "Train Epoch: 5 [8/50000 (64)%]\tTrain Loss: 0.513461\n",
            "Train Epoch: 5 [16/50000 (77)%]\tTrain Loss: 0.755167\n",
            "Train Epoch: 5 [24/50000 (90)%]\tTrain Loss: 0.951442\n",
            "\n",
            "[EPOCH: 5], \tTest Loss: 0.0227, \tTest Accuracy: 75.31% \n",
            "\n",
            "Train Epoch: 6 [0/50000 (0)%]\tTrain Loss: 0.411353\n",
            "Train Epoch: 6 [8/50000 (13)%]\tTrain Loss: 0.665183\n",
            "Train Epoch: 6 [16/50000 (26)%]\tTrain Loss: 0.442988\n",
            "Train Epoch: 6 [24/50000 (38)%]\tTrain Loss: 0.581948\n",
            "Train Epoch: 6 [0/50000 (51)%]\tTrain Loss: 0.383475\n",
            "Train Epoch: 6 [8/50000 (64)%]\tTrain Loss: 0.652442\n",
            "Train Epoch: 6 [16/50000 (77)%]\tTrain Loss: 0.816276\n",
            "Train Epoch: 6 [24/50000 (90)%]\tTrain Loss: 0.356854\n",
            "\n",
            "[EPOCH: 6], \tTest Loss: 0.0240, \tTest Accuracy: 73.99% \n",
            "\n",
            "Train Epoch: 7 [0/50000 (0)%]\tTrain Loss: 0.557440\n",
            "Train Epoch: 7 [8/50000 (13)%]\tTrain Loss: 0.657691\n",
            "Train Epoch: 7 [16/50000 (26)%]\tTrain Loss: 0.524809\n",
            "Train Epoch: 7 [24/50000 (38)%]\tTrain Loss: 0.642766\n",
            "Train Epoch: 7 [0/50000 (51)%]\tTrain Loss: 0.641697\n",
            "Train Epoch: 7 [8/50000 (64)%]\tTrain Loss: 0.665715\n",
            "Train Epoch: 7 [16/50000 (77)%]\tTrain Loss: 0.987365\n",
            "Train Epoch: 7 [24/50000 (90)%]\tTrain Loss: 0.260669\n",
            "\n",
            "[EPOCH: 7], \tTest Loss: 0.0209, \tTest Accuracy: 77.02% \n",
            "\n",
            "Train Epoch: 8 [0/50000 (0)%]\tTrain Loss: 0.482619\n",
            "Train Epoch: 8 [8/50000 (13)%]\tTrain Loss: 0.330460\n",
            "Train Epoch: 8 [16/50000 (26)%]\tTrain Loss: 0.411873\n",
            "Train Epoch: 8 [24/50000 (38)%]\tTrain Loss: 0.544269\n",
            "Train Epoch: 8 [0/50000 (51)%]\tTrain Loss: 0.498049\n",
            "Train Epoch: 8 [8/50000 (64)%]\tTrain Loss: 0.808463\n",
            "Train Epoch: 8 [16/50000 (77)%]\tTrain Loss: 0.700069\n",
            "Train Epoch: 8 [24/50000 (90)%]\tTrain Loss: 0.474761\n",
            "\n",
            "[EPOCH: 8], \tTest Loss: 0.0200, \tTest Accuracy: 78.19% \n",
            "\n",
            "Train Epoch: 9 [0/50000 (0)%]\tTrain Loss: 0.368699\n",
            "Train Epoch: 9 [8/50000 (13)%]\tTrain Loss: 0.192072\n",
            "Train Epoch: 9 [16/50000 (26)%]\tTrain Loss: 0.497713\n",
            "Train Epoch: 9 [24/50000 (38)%]\tTrain Loss: 0.848256\n",
            "Train Epoch: 9 [0/50000 (51)%]\tTrain Loss: 0.320150\n",
            "Train Epoch: 9 [8/50000 (64)%]\tTrain Loss: 0.580620\n",
            "Train Epoch: 9 [16/50000 (77)%]\tTrain Loss: 0.346975\n",
            "Train Epoch: 9 [24/50000 (90)%]\tTrain Loss: 0.852730\n",
            "\n",
            "[EPOCH: 9], \tTest Loss: 0.0230, \tTest Accuracy: 76.26% \n",
            "\n",
            "Train Epoch: 10 [0/50000 (0)%]\tTrain Loss: 0.895875\n",
            "Train Epoch: 10 [8/50000 (13)%]\tTrain Loss: 0.449324\n",
            "Train Epoch: 10 [16/50000 (26)%]\tTrain Loss: 0.253316\n",
            "Train Epoch: 10 [24/50000 (38)%]\tTrain Loss: 0.417039\n",
            "Train Epoch: 10 [0/50000 (51)%]\tTrain Loss: 0.662653\n",
            "Train Epoch: 10 [8/50000 (64)%]\tTrain Loss: 0.315427\n",
            "Train Epoch: 10 [16/50000 (77)%]\tTrain Loss: 0.182038\n",
            "Train Epoch: 10 [24/50000 (90)%]\tTrain Loss: 0.484306\n",
            "\n",
            "[EPOCH: 10], \tTest Loss: 0.0188, \tTest Accuracy: 79.89% \n",
            "\n"
          ]
        }
      ]
    },
    {
      "cell_type": "code",
      "source": [
        "''' 11. ImageNet 데이터로 학습된 ResNet34 모델을 불러온 후 Fine-tuning해보기 '''\n",
        "model = models.resnet34(pretrained = True)\n",
        "num_ftrs = model.fc.in_features\n",
        "model.fc = nn.Linear(num_ftrs, 10)\n",
        "model = model.cuda()\n",
        "optimizer = torch.optim.Adam(model.parameters(), lr = 0.001)\n",
        "\n",
        "for Epoch in range(1, EPOCHS + 1):\n",
        "    train(model, train_loader, optimizer, log_interval = 200)\n",
        "    test_loss, test_accuracy = evaluate(model, test_loader)\n",
        "    print(\"\\n[EPOCH: {}], \\tTest Loss: {:.4f}, \\tTest Accuracy: {:.2f}% \\n\".format(\n",
        "        Epoch, test_loss, test_accuracy\n",
        "    ))"
      ],
      "metadata": {
        "colab": {
          "base_uri": "https://localhost:8080/"
        },
        "id": "goo5GwBMiyZf",
        "outputId": "b28225ca-3874-4e1b-bc65-dea233fd16cd"
      },
      "execution_count": 69,
      "outputs": [
        {
          "output_type": "stream",
          "name": "stderr",
          "text": [
            "/usr/local/lib/python3.10/dist-packages/torchvision/models/_utils.py:208: UserWarning: The parameter 'pretrained' is deprecated since 0.13 and may be removed in the future, please use 'weights' instead.\n",
            "  warnings.warn(\n",
            "/usr/local/lib/python3.10/dist-packages/torchvision/models/_utils.py:223: UserWarning: Arguments other than a weight enum or `None` for 'weights' are deprecated since 0.13 and may be removed in the future. The current behavior is equivalent to passing `weights=ResNet34_Weights.IMAGENET1K_V1`. You can also use `weights=ResNet34_Weights.DEFAULT` to get the most up-to-date weights.\n",
            "  warnings.warn(msg)\n",
            "Downloading: \"https://download.pytorch.org/models/resnet34-b627a593.pth\" to /root/.cache/torch/hub/checkpoints/resnet34-b627a593.pth\n",
            "100%|██████████| 83.3M/83.3M [00:00<00:00, 278MB/s]\n"
          ]
        },
        {
          "output_type": "stream",
          "name": "stdout",
          "text": [
            "Train Epoch: 1 [0/50000 (0)%]\tTrain Loss: 2.264374\n",
            "Train Epoch: 1 [8/50000 (13)%]\tTrain Loss: 1.083268\n",
            "Train Epoch: 1 [16/50000 (26)%]\tTrain Loss: 0.853650\n",
            "Train Epoch: 1 [24/50000 (38)%]\tTrain Loss: 1.261405\n",
            "Train Epoch: 1 [0/50000 (51)%]\tTrain Loss: 1.264597\n",
            "Train Epoch: 1 [8/50000 (64)%]\tTrain Loss: 0.956825\n",
            "Train Epoch: 1 [16/50000 (77)%]\tTrain Loss: 1.016308\n",
            "Train Epoch: 1 [24/50000 (90)%]\tTrain Loss: 0.968911\n",
            "\n",
            "[EPOCH: 1], \tTest Loss: 0.0253, \tTest Accuracy: 72.04% \n",
            "\n",
            "Train Epoch: 2 [0/50000 (0)%]\tTrain Loss: 0.745625\n",
            "Train Epoch: 2 [8/50000 (13)%]\tTrain Loss: 1.072258\n",
            "Train Epoch: 2 [16/50000 (26)%]\tTrain Loss: 0.729273\n",
            "Train Epoch: 2 [24/50000 (38)%]\tTrain Loss: 0.864542\n",
            "Train Epoch: 2 [0/50000 (51)%]\tTrain Loss: 1.144496\n",
            "Train Epoch: 2 [8/50000 (64)%]\tTrain Loss: 0.721966\n",
            "Train Epoch: 2 [16/50000 (77)%]\tTrain Loss: 0.832731\n",
            "Train Epoch: 2 [24/50000 (90)%]\tTrain Loss: 0.887411\n",
            "\n",
            "[EPOCH: 2], \tTest Loss: 0.0234, \tTest Accuracy: 74.91% \n",
            "\n",
            "Train Epoch: 3 [0/50000 (0)%]\tTrain Loss: 0.605547\n",
            "Train Epoch: 3 [8/50000 (13)%]\tTrain Loss: 0.642310\n",
            "Train Epoch: 3 [16/50000 (26)%]\tTrain Loss: 0.883591\n",
            "Train Epoch: 3 [24/50000 (38)%]\tTrain Loss: 0.746097\n",
            "Train Epoch: 3 [0/50000 (51)%]\tTrain Loss: 1.274952\n",
            "Train Epoch: 3 [8/50000 (64)%]\tTrain Loss: 0.596534\n",
            "Train Epoch: 3 [16/50000 (77)%]\tTrain Loss: 0.557073\n",
            "Train Epoch: 3 [24/50000 (90)%]\tTrain Loss: 0.656639\n",
            "\n",
            "[EPOCH: 3], \tTest Loss: 0.0222, \tTest Accuracy: 76.17% \n",
            "\n",
            "Train Epoch: 4 [0/50000 (0)%]\tTrain Loss: 0.897914\n",
            "Train Epoch: 4 [8/50000 (13)%]\tTrain Loss: 0.927046\n",
            "Train Epoch: 4 [16/50000 (26)%]\tTrain Loss: 0.619164\n",
            "Train Epoch: 4 [24/50000 (38)%]\tTrain Loss: 0.836430\n",
            "Train Epoch: 4 [0/50000 (51)%]\tTrain Loss: 1.119096\n",
            "Train Epoch: 4 [8/50000 (64)%]\tTrain Loss: 0.833196\n",
            "Train Epoch: 4 [16/50000 (77)%]\tTrain Loss: 1.310502\n",
            "Train Epoch: 4 [24/50000 (90)%]\tTrain Loss: 0.928811\n",
            "\n",
            "[EPOCH: 4], \tTest Loss: 0.0310, \tTest Accuracy: 74.88% \n",
            "\n",
            "Train Epoch: 5 [0/50000 (0)%]\tTrain Loss: 0.644088\n",
            "Train Epoch: 5 [8/50000 (13)%]\tTrain Loss: 0.650744\n",
            "Train Epoch: 5 [16/50000 (26)%]\tTrain Loss: 0.783641\n",
            "Train Epoch: 5 [24/50000 (38)%]\tTrain Loss: 0.731962\n",
            "Train Epoch: 5 [0/50000 (51)%]\tTrain Loss: 0.402980\n",
            "Train Epoch: 5 [8/50000 (64)%]\tTrain Loss: 0.538147\n",
            "Train Epoch: 5 [16/50000 (77)%]\tTrain Loss: 0.737049\n",
            "Train Epoch: 5 [24/50000 (90)%]\tTrain Loss: 0.552120\n",
            "\n",
            "[EPOCH: 5], \tTest Loss: 0.0224, \tTest Accuracy: 78.38% \n",
            "\n",
            "Train Epoch: 6 [0/50000 (0)%]\tTrain Loss: 0.433302\n",
            "Train Epoch: 6 [8/50000 (13)%]\tTrain Loss: 0.701652\n",
            "Train Epoch: 6 [16/50000 (26)%]\tTrain Loss: 0.414830\n",
            "Train Epoch: 6 [24/50000 (38)%]\tTrain Loss: 0.412889\n",
            "Train Epoch: 6 [0/50000 (51)%]\tTrain Loss: 0.351670\n",
            "Train Epoch: 6 [8/50000 (64)%]\tTrain Loss: 0.591737\n",
            "Train Epoch: 6 [16/50000 (77)%]\tTrain Loss: 0.710063\n",
            "Train Epoch: 6 [24/50000 (90)%]\tTrain Loss: 0.561561\n",
            "\n",
            "[EPOCH: 6], \tTest Loss: 0.0197, \tTest Accuracy: 79.08% \n",
            "\n",
            "Train Epoch: 7 [0/50000 (0)%]\tTrain Loss: 0.282207\n",
            "Train Epoch: 7 [8/50000 (13)%]\tTrain Loss: 0.547794\n",
            "Train Epoch: 7 [16/50000 (26)%]\tTrain Loss: 0.508314\n",
            "Train Epoch: 7 [24/50000 (38)%]\tTrain Loss: 0.384426\n",
            "Train Epoch: 7 [0/50000 (51)%]\tTrain Loss: 0.532478\n",
            "Train Epoch: 7 [8/50000 (64)%]\tTrain Loss: 0.363183\n",
            "Train Epoch: 7 [16/50000 (77)%]\tTrain Loss: 0.313952\n",
            "Train Epoch: 7 [24/50000 (90)%]\tTrain Loss: 0.475645\n",
            "\n",
            "[EPOCH: 7], \tTest Loss: 0.0189, \tTest Accuracy: 80.11% \n",
            "\n",
            "Train Epoch: 8 [0/50000 (0)%]\tTrain Loss: 0.444871\n",
            "Train Epoch: 8 [8/50000 (13)%]\tTrain Loss: 0.310911\n",
            "Train Epoch: 8 [16/50000 (26)%]\tTrain Loss: 0.515348\n",
            "Train Epoch: 8 [24/50000 (38)%]\tTrain Loss: 0.399532\n",
            "Train Epoch: 8 [0/50000 (51)%]\tTrain Loss: 0.477065\n",
            "Train Epoch: 8 [8/50000 (64)%]\tTrain Loss: 0.844176\n",
            "Train Epoch: 8 [16/50000 (77)%]\tTrain Loss: 0.370480\n",
            "Train Epoch: 8 [24/50000 (90)%]\tTrain Loss: 0.399330\n",
            "\n",
            "[EPOCH: 8], \tTest Loss: 0.0226, \tTest Accuracy: 80.37% \n",
            "\n",
            "Train Epoch: 9 [0/50000 (0)%]\tTrain Loss: 0.280150\n",
            "Train Epoch: 9 [8/50000 (13)%]\tTrain Loss: 0.438273\n",
            "Train Epoch: 9 [16/50000 (26)%]\tTrain Loss: 0.528129\n",
            "Train Epoch: 9 [24/50000 (38)%]\tTrain Loss: 0.261344\n",
            "Train Epoch: 9 [0/50000 (51)%]\tTrain Loss: 0.447210\n",
            "Train Epoch: 9 [8/50000 (64)%]\tTrain Loss: 0.410174\n",
            "Train Epoch: 9 [16/50000 (77)%]\tTrain Loss: 0.390559\n",
            "Train Epoch: 9 [24/50000 (90)%]\tTrain Loss: 0.302391\n",
            "\n",
            "[EPOCH: 9], \tTest Loss: 0.0571, \tTest Accuracy: 78.43% \n",
            "\n",
            "Train Epoch: 10 [0/50000 (0)%]\tTrain Loss: 0.300512\n",
            "Train Epoch: 10 [8/50000 (13)%]\tTrain Loss: 0.348613\n",
            "Train Epoch: 10 [16/50000 (26)%]\tTrain Loss: 0.374133\n",
            "Train Epoch: 10 [24/50000 (38)%]\tTrain Loss: 0.464278\n",
            "Train Epoch: 10 [0/50000 (51)%]\tTrain Loss: 0.678483\n",
            "Train Epoch: 10 [8/50000 (64)%]\tTrain Loss: 0.772873\n",
            "Train Epoch: 10 [16/50000 (77)%]\tTrain Loss: 0.262215\n",
            "Train Epoch: 10 [24/50000 (90)%]\tTrain Loss: 0.277850\n",
            "\n",
            "[EPOCH: 10], \tTest Loss: 0.0445, \tTest Accuracy: 77.45% \n",
            "\n"
          ]
        }
      ]
    }
  ]
}