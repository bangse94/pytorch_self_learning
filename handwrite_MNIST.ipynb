{
  "nbformat": 4,
  "nbformat_minor": 0,
  "metadata": {
    "colab": {
      "provenance": [],
      "gpuType": "T4",
      "authorship_tag": "ABX9TyNEvAkiUm8vz+ax+0RSmJXv"
    },
    "kernelspec": {
      "name": "python3",
      "display_name": "Python 3"
    },
    "language_info": {
      "name": "python"
    },
    "accelerator": "GPU"
  },
  "cells": [
    {
      "cell_type": "markdown",
      "source": [
        "### 사람의 손글씨 데이터인 MNIST를 이용해 Multi Layer Perceptron(MLP) 설계하기"
      ],
      "metadata": {
        "id": "RS6VsgUY4ZRc"
      }
    },
    {
      "cell_type": "code",
      "execution_count": 22,
      "metadata": {
        "id": "QNRDrZvm4Ri-"
      },
      "outputs": [],
      "source": [
        "''' 1. Module Import '''\n",
        "import numpy as np\n",
        "import matplotlib.pyplot as plt\n",
        "import torch\n",
        "import torch.nn as nn\n",
        "import torch.nn.functional as F\n",
        "from torchvision import transforms, datasets"
      ]
    },
    {
      "cell_type": "code",
      "source": [
        "''' 2. 딥러닝 모델 설계할 때 활용하는 장비 확인 '''\n",
        "if torch.cuda.is_available():\n",
        "    DEVICE = torch.device('cuda')\n",
        "else:\n",
        "    DEVICE = torch.device('cpu')\n",
        "\n",
        "print('Using PyTorch version: ', torch.__version__, ' Device: ', DEVICE)"
      ],
      "metadata": {
        "colab": {
          "base_uri": "https://localhost:8080/"
        },
        "id": "Jy85-jlN4275",
        "outputId": "71830217-3182-48d4-857c-f3ee3a44a532"
      },
      "execution_count": 23,
      "outputs": [
        {
          "output_type": "stream",
          "name": "stdout",
          "text": [
            "Using PyTorch version:  2.0.1+cu118  Device:  cuda\n"
          ]
        }
      ]
    },
    {
      "cell_type": "code",
      "source": [
        "''' Batch, Epochs 설정 '''\n",
        "BATCH_SIZE = 32\n",
        "EPOCHS = 10"
      ],
      "metadata": {
        "id": "VfmJ8ZLq5TY6"
      },
      "execution_count": 24,
      "outputs": []
    },
    {
      "cell_type": "code",
      "source": [
        "''' 3. MNIST 데이터 다운로드(Trainset, Test set 분리하기) '''\n",
        "train_dataset = datasets.MNIST(root = '/content/data/MNIST',\n",
        "                               train = True,\n",
        "                               download = True,\n",
        "                               transform = transforms.ToTensor())\n",
        "test_dataset = datasets.MNIST(root = '/content/data/MNIST',\n",
        "                              train = False,\n",
        "                              transform = transforms.ToTensor())\n",
        "train_loader = torch.utils.data.DataLoader(dataset = train_dataset,\n",
        "                                           batch_size = BATCH_SIZE,\n",
        "                                           shuffle = True)\n",
        "test_loader = torch.utils.data.DataLoader(dataset = test_dataset,\n",
        "                                          batch_size = BATCH_SIZE,\n",
        "                                          shuffle = True)"
      ],
      "metadata": {
        "id": "Vk7HHTwy5d3Q"
      },
      "execution_count": 25,
      "outputs": []
    },
    {
      "cell_type": "code",
      "source": [
        "''' 4. 데이터 확인하기 (1) '''\n",
        "for (x_train, y_train) in train_loader:\n",
        "    print('x_train: ', x_train.size(), ' type: ', x_train.type())\n",
        "    print('y_train: ', y_train.size(), ' type: ', y_train.type())\n",
        "    break"
      ],
      "metadata": {
        "colab": {
          "base_uri": "https://localhost:8080/"
        },
        "id": "RvJN-G426nIw",
        "outputId": "930ab2c2-72d0-418a-d190-0ff090a404b6"
      },
      "execution_count": 26,
      "outputs": [
        {
          "output_type": "stream",
          "name": "stdout",
          "text": [
            "x_train:  torch.Size([32, 1, 28, 28])  type:  torch.FloatTensor\n",
            "y_train:  torch.Size([32])  type:  torch.LongTensor\n"
          ]
        }
      ]
    },
    {
      "cell_type": "code",
      "source": [
        "''' 5. 데이터 확인하기 (2) '''\n",
        "pltsize = 1\n",
        "plt.figure(figsize=(10 * pltsize, pltsize))\n",
        "for i in range(10):\n",
        "    plt.subplot(1, 10, i + 1)\n",
        "    plt.axis('off')\n",
        "    plt.imshow(x_train[i, :, :, :].numpy().reshape(28,28), cmap = \"gray_r\")\n",
        "    plt.title(\"Class : \" + str(y_train[i].item()))"
      ],
      "metadata": {
        "colab": {
          "base_uri": "https://localhost:8080/",
          "height": 125
        },
        "id": "P-Yt-qzP7F19",
        "outputId": "da5dbcc7-c0e6-4ff9-bfd3-98a1ad05bdef"
      },
      "execution_count": 27,
      "outputs": [
        {
          "output_type": "display_data",
          "data": {
            "text/plain": [
              "<Figure size 1000x100 with 10 Axes>"
            ],
            "image/png": "[encoded data removed]"
          },
          "metadata": {}
        }
      ]
    },
    {
      "cell_type": "code",
      "source": [
        "''' 6. MLP(Multi Layer Perceptron) 모델 설계하기 '''\n",
        "class Net(nn.Module):\n",
        "    def __init__(self):\n",
        "        super(Net, self).__init__()\n",
        "        self.fc1 = nn.Linear(28*28, 512)\n",
        "        self.fc2 = nn.Linear(512, 256)\n",
        "        self.fc3 = nn.Linear(256, 10)\n",
        "        self.dropout_prob = 0.5\n",
        "        self.batch_norm1 = nn.BatchNorm1d(512)\n",
        "        self.batch_norm2 = nn.BatchNorm1d(256)\n",
        "\n",
        "    def forward(self, x):\n",
        "        x = x.view(-1, 28 * 28)\n",
        "        x = self.fc1(x)\n",
        "        x = self.batch_norm1(x)\n",
        "        x = F.relu(x)\n",
        "        x = F.dropout(x, training = self.training, p = self.dropout_prob)\n",
        "        x = self.fc2(x)\n",
        "        x = self.batch_norm2(x)\n",
        "        x = F.relu(x)\n",
        "        x = F.dropout(x, training = self.training, p = self.dropout_prob)\n",
        "        x = self.fc3(x)\n",
        "        x = F.log_softmax(x, dim=1)\n",
        "        return x"
      ],
      "metadata": {
        "id": "bErDtdx47_9e"
      },
      "execution_count": 37,
      "outputs": []
    },
    {
      "cell_type": "code",
      "source": [
        "''' 7. Optimizer, Objective Function 이용하기 '''\n",
        "import torch.nn.init as init\n",
        "def weight_init(m):\n",
        "    if isinstance(m, nn.Linear):\n",
        "        init.kaiming_uniform_(m.weight.data)\n",
        "\n",
        "model = Net().to(DEVICE)\n",
        "model.apply(weight_init)\n",
        "optimizer = torch.optim.Adam(model.parameters(), lr = 0.01)\n",
        "criterion = nn.CrossEntropyLoss()\n",
        "\n",
        "print(model)"
      ],
      "metadata": {
        "colab": {
          "base_uri": "https://localhost:8080/"
        },
        "id": "xFZEca0f80T3",
        "outputId": "360e390a-a665-4713-d4b5-8017bb3e9c43"
      },
      "execution_count": 41,
      "outputs": [
        {
          "output_type": "stream",
          "name": "stdout",
          "text": [
            "Net(\n",
            "  (fc1): Linear(in_features=784, out_features=512, bias=True)\n",
            "  (fc2): Linear(in_features=512, out_features=256, bias=True)\n",
            "  (fc3): Linear(in_features=256, out_features=10, bias=True)\n",
            "  (batch_norm1): BatchNorm1d(512, eps=1e-05, momentum=0.1, affine=True, track_running_stats=True)\n",
            "  (batch_norm2): BatchNorm1d(256, eps=1e-05, momentum=0.1, affine=True, track_running_stats=True)\n",
            ")\n"
          ]
        }
      ]
    },
    {
      "cell_type": "code",
      "source": [
        "''' 8. MLP 모델 학습을 진행하여 학습 데이터에 대한 모델 성능을 확인하는 함수 정의 '''\n",
        "def train(model, train_loader, optimizer, log_interval):\n",
        "    model.train()\n",
        "    for batch_idx, (image, label) in enumerate(train_loader):\n",
        "        image = image.to(DEVICE)\n",
        "        label = label.to(DEVICE)\n",
        "        optimizer.zero_grad()\n",
        "        output = model(image)\n",
        "        loss = criterion(output, label)\n",
        "        loss.backward()\n",
        "        optimizer.step()\n",
        "\n",
        "        if batch_idx % log_interval == 0:\n",
        "            print(\"Train Epoch: {} [{}/{} ({:.0f})%]\\tTrain Loss : {:.6f}\".format(\n",
        "                Epoch, batch_idx * len(image),\n",
        "                len(train_loader.dataset), 100. * batch_idx /len(train_loader),\n",
        "                loss.item()\n",
        "            ))"
      ],
      "metadata": {
        "id": "ksedWDeH9SNS"
      },
      "execution_count": 30,
      "outputs": []
    },
    {
      "cell_type": "code",
      "source": [
        "''' 9. 학습되는 과정 속에서 검증 데이터에 대한 모델 성능을 확인하는 함수 '''\n",
        "def evaluate(model, test_loader):\n",
        "    model.eval()\n",
        "    test_loss = 0\n",
        "    correct = 0\n",
        "\n",
        "    with torch.no_grad():\n",
        "        for image, label in test_loader:\n",
        "            image = image.to(DEVICE)\n",
        "            label = label.to(DEVICE)\n",
        "            output = model(image)\n",
        "            test_loss += criterion(output, label).item()\n",
        "            prediction = output.max(1, keepdim = True)[1]\n",
        "            correct += prediction.eq(label.view_as(prediction)).sum().item()\n",
        "\n",
        "    test_loss /= len(test_loader.dataset)\n",
        "    test_accuracy = 100. * correct / len(test_loader.dataset)\n",
        "    return test_loss, test_accuracy"
      ],
      "metadata": {
        "id": "bBqplGGb-X00"
      },
      "execution_count": 35,
      "outputs": []
    },
    {
      "cell_type": "code",
      "source": [
        "''' 10. MLP 학습을 실행하면서 Train, Test set의 Loss 및 Test set Accuracy를 확인하기 '''\n",
        "for Epoch in range(1, EPOCHS + 1):\n",
        "    train(model, train_loader, optimizer, log_interval = 200)\n",
        "    test_loss, test_accuracy = evaluate(model, test_loader)\n",
        "    print(\"\\n[EPOCH: {}], \\tTest Loss: {:.4f}, \\tTest Accuracy: {:.2f} %\\n\".format(Epoch, test_loss, test_accuracy))"
      ],
      "metadata": {
        "colab": {
          "base_uri": "https://localhost:8080/"
        },
        "id": "ju2GvhxZIO5k",
        "outputId": "82c2a9b0-566c-4936-cc82-cc57a6a677c4"
      },
      "execution_count": 42,
      "outputs": [
        {
          "output_type": "stream",
          "name": "stdout",
          "text": [
            "Train Epoch: 1 [0/60000 (0)%]\tTrain Loss : 3.324864\n",
            "Train Epoch: 1 [6400/60000 (11)%]\tTrain Loss : 0.491248\n",
            "Train Epoch: 1 [12800/60000 (21)%]\tTrain Loss : 0.135636\n",
            "Train Epoch: 1 [19200/60000 (32)%]\tTrain Loss : 0.230236\n",
            "Train Epoch: 1 [25600/60000 (43)%]\tTrain Loss : 0.244427\n",
            "Train Epoch: 1 [32000/60000 (53)%]\tTrain Loss : 0.095798\n",
            "Train Epoch: 1 [38400/60000 (64)%]\tTrain Loss : 0.164216\n",
            "Train Epoch: 1 [44800/60000 (75)%]\tTrain Loss : 0.081565\n",
            "Train Epoch: 1 [51200/60000 (85)%]\tTrain Loss : 0.364690\n",
            "Train Epoch: 1 [57600/60000 (96)%]\tTrain Loss : 0.419915\n",
            "\n",
            "[EPOCH: 1], \tTest Loss: 0.0037, \tTest Accuracy: 96.36 %\n",
            "\n",
            "Train Epoch: 2 [0/60000 (0)%]\tTrain Loss : 0.344600\n",
            "Train Epoch: 2 [6400/60000 (11)%]\tTrain Loss : 0.264637\n",
            "Train Epoch: 2 [12800/60000 (21)%]\tTrain Loss : 0.299426\n",
            "Train Epoch: 2 [19200/60000 (32)%]\tTrain Loss : 0.109177\n",
            "Train Epoch: 2 [25600/60000 (43)%]\tTrain Loss : 0.085240\n",
            "Train Epoch: 2 [32000/60000 (53)%]\tTrain Loss : 0.127139\n",
            "Train Epoch: 2 [38400/60000 (64)%]\tTrain Loss : 0.111468\n",
            "Train Epoch: 2 [44800/60000 (75)%]\tTrain Loss : 0.225530\n",
            "Train Epoch: 2 [51200/60000 (85)%]\tTrain Loss : 0.319719\n",
            "Train Epoch: 2 [57600/60000 (96)%]\tTrain Loss : 0.104445\n",
            "\n",
            "[EPOCH: 2], \tTest Loss: 0.0034, \tTest Accuracy: 96.56 %\n",
            "\n",
            "Train Epoch: 3 [0/60000 (0)%]\tTrain Loss : 0.068749\n",
            "Train Epoch: 3 [6400/60000 (11)%]\tTrain Loss : 0.172357\n",
            "Train Epoch: 3 [12800/60000 (21)%]\tTrain Loss : 0.069688\n",
            "Train Epoch: 3 [19200/60000 (32)%]\tTrain Loss : 0.051576\n",
            "Train Epoch: 3 [25600/60000 (43)%]\tTrain Loss : 0.105160\n",
            "Train Epoch: 3 [32000/60000 (53)%]\tTrain Loss : 0.314245\n",
            "Train Epoch: 3 [38400/60000 (64)%]\tTrain Loss : 0.050043\n",
            "Train Epoch: 3 [44800/60000 (75)%]\tTrain Loss : 0.217001\n",
            "Train Epoch: 3 [51200/60000 (85)%]\tTrain Loss : 0.236792\n",
            "Train Epoch: 3 [57600/60000 (96)%]\tTrain Loss : 0.122755\n",
            "\n",
            "[EPOCH: 3], \tTest Loss: 0.0028, \tTest Accuracy: 97.20 %\n",
            "\n",
            "Train Epoch: 4 [0/60000 (0)%]\tTrain Loss : 0.221071\n",
            "Train Epoch: 4 [6400/60000 (11)%]\tTrain Loss : 0.321096\n",
            "Train Epoch: 4 [12800/60000 (21)%]\tTrain Loss : 0.049308\n",
            "Train Epoch: 4 [19200/60000 (32)%]\tTrain Loss : 0.076091\n",
            "Train Epoch: 4 [25600/60000 (43)%]\tTrain Loss : 0.128420\n",
            "Train Epoch: 4 [32000/60000 (53)%]\tTrain Loss : 0.138793\n",
            "Train Epoch: 4 [38400/60000 (64)%]\tTrain Loss : 0.090221\n",
            "Train Epoch: 4 [44800/60000 (75)%]\tTrain Loss : 0.088350\n",
            "Train Epoch: 4 [51200/60000 (85)%]\tTrain Loss : 0.189665\n",
            "Train Epoch: 4 [57600/60000 (96)%]\tTrain Loss : 0.094743\n",
            "\n",
            "[EPOCH: 4], \tTest Loss: 0.0027, \tTest Accuracy: 97.22 %\n",
            "\n",
            "Train Epoch: 5 [0/60000 (0)%]\tTrain Loss : 0.306953\n",
            "Train Epoch: 5 [6400/60000 (11)%]\tTrain Loss : 0.457324\n",
            "Train Epoch: 5 [12800/60000 (21)%]\tTrain Loss : 0.192126\n",
            "Train Epoch: 5 [19200/60000 (32)%]\tTrain Loss : 0.116038\n",
            "Train Epoch: 5 [25600/60000 (43)%]\tTrain Loss : 0.086301\n",
            "Train Epoch: 5 [32000/60000 (53)%]\tTrain Loss : 0.114190\n",
            "Train Epoch: 5 [38400/60000 (64)%]\tTrain Loss : 0.038467\n",
            "Train Epoch: 5 [44800/60000 (75)%]\tTrain Loss : 0.088389\n",
            "Train Epoch: 5 [51200/60000 (85)%]\tTrain Loss : 0.125098\n",
            "Train Epoch: 5 [57600/60000 (96)%]\tTrain Loss : 0.036130\n",
            "\n",
            "[EPOCH: 5], \tTest Loss: 0.0026, \tTest Accuracy: 97.61 %\n",
            "\n",
            "Train Epoch: 6 [0/60000 (0)%]\tTrain Loss : 0.199678\n",
            "Train Epoch: 6 [6400/60000 (11)%]\tTrain Loss : 0.091505\n",
            "Train Epoch: 6 [12800/60000 (21)%]\tTrain Loss : 0.137681\n",
            "Train Epoch: 6 [19200/60000 (32)%]\tTrain Loss : 0.235648\n",
            "Train Epoch: 6 [25600/60000 (43)%]\tTrain Loss : 0.201324\n",
            "Train Epoch: 6 [32000/60000 (53)%]\tTrain Loss : 0.252053\n",
            "Train Epoch: 6 [38400/60000 (64)%]\tTrain Loss : 0.447157\n",
            "Train Epoch: 6 [44800/60000 (75)%]\tTrain Loss : 0.134620\n",
            "Train Epoch: 6 [51200/60000 (85)%]\tTrain Loss : 0.124754\n",
            "Train Epoch: 6 [57600/60000 (96)%]\tTrain Loss : 0.188651\n",
            "\n",
            "[EPOCH: 6], \tTest Loss: 0.0023, \tTest Accuracy: 97.77 %\n",
            "\n",
            "Train Epoch: 7 [0/60000 (0)%]\tTrain Loss : 0.186621\n",
            "Train Epoch: 7 [6400/60000 (11)%]\tTrain Loss : 0.377579\n",
            "Train Epoch: 7 [12800/60000 (21)%]\tTrain Loss : 0.079429\n",
            "Train Epoch: 7 [19200/60000 (32)%]\tTrain Loss : 0.144998\n",
            "Train Epoch: 7 [25600/60000 (43)%]\tTrain Loss : 0.237236\n",
            "Train Epoch: 7 [32000/60000 (53)%]\tTrain Loss : 0.297031\n",
            "Train Epoch: 7 [38400/60000 (64)%]\tTrain Loss : 0.437308\n",
            "Train Epoch: 7 [44800/60000 (75)%]\tTrain Loss : 0.306858\n",
            "Train Epoch: 7 [51200/60000 (85)%]\tTrain Loss : 0.121496\n",
            "Train Epoch: 7 [57600/60000 (96)%]\tTrain Loss : 0.181539\n",
            "\n",
            "[EPOCH: 7], \tTest Loss: 0.0023, \tTest Accuracy: 97.83 %\n",
            "\n",
            "Train Epoch: 8 [0/60000 (0)%]\tTrain Loss : 0.059484\n",
            "Train Epoch: 8 [6400/60000 (11)%]\tTrain Loss : 0.308930\n",
            "Train Epoch: 8 [12800/60000 (21)%]\tTrain Loss : 0.505709\n",
            "Train Epoch: 8 [19200/60000 (32)%]\tTrain Loss : 0.138521\n",
            "Train Epoch: 8 [25600/60000 (43)%]\tTrain Loss : 0.015181\n",
            "Train Epoch: 8 [32000/60000 (53)%]\tTrain Loss : 0.269129\n",
            "Train Epoch: 8 [38400/60000 (64)%]\tTrain Loss : 0.164280\n",
            "Train Epoch: 8 [44800/60000 (75)%]\tTrain Loss : 0.100123\n",
            "Train Epoch: 8 [51200/60000 (85)%]\tTrain Loss : 0.143925\n",
            "Train Epoch: 8 [57600/60000 (96)%]\tTrain Loss : 0.267238\n",
            "\n",
            "[EPOCH: 8], \tTest Loss: 0.0021, \tTest Accuracy: 97.87 %\n",
            "\n",
            "Train Epoch: 9 [0/60000 (0)%]\tTrain Loss : 0.103943\n",
            "Train Epoch: 9 [6400/60000 (11)%]\tTrain Loss : 0.042059\n",
            "Train Epoch: 9 [12800/60000 (21)%]\tTrain Loss : 0.110972\n",
            "Train Epoch: 9 [19200/60000 (32)%]\tTrain Loss : 0.229559\n",
            "Train Epoch: 9 [25600/60000 (43)%]\tTrain Loss : 0.035858\n",
            "Train Epoch: 9 [32000/60000 (53)%]\tTrain Loss : 0.324266\n",
            "Train Epoch: 9 [38400/60000 (64)%]\tTrain Loss : 0.161724\n",
            "Train Epoch: 9 [44800/60000 (75)%]\tTrain Loss : 0.090144\n",
            "Train Epoch: 9 [51200/60000 (85)%]\tTrain Loss : 0.163429\n",
            "Train Epoch: 9 [57600/60000 (96)%]\tTrain Loss : 0.060498\n",
            "\n",
            "[EPOCH: 9], \tTest Loss: 0.0021, \tTest Accuracy: 98.05 %\n",
            "\n",
            "Train Epoch: 10 [0/60000 (0)%]\tTrain Loss : 0.153051\n",
            "Train Epoch: 10 [6400/60000 (11)%]\tTrain Loss : 0.218049\n",
            "Train Epoch: 10 [12800/60000 (21)%]\tTrain Loss : 0.436060\n",
            "Train Epoch: 10 [19200/60000 (32)%]\tTrain Loss : 0.061571\n",
            "Train Epoch: 10 [25600/60000 (43)%]\tTrain Loss : 0.208616\n",
            "Train Epoch: 10 [32000/60000 (53)%]\tTrain Loss : 0.077256\n",
            "Train Epoch: 10 [38400/60000 (64)%]\tTrain Loss : 0.147602\n",
            "Train Epoch: 10 [44800/60000 (75)%]\tTrain Loss : 0.484523\n",
            "Train Epoch: 10 [51200/60000 (85)%]\tTrain Loss : 0.280720\n",
            "Train Epoch: 10 [57600/60000 (96)%]\tTrain Loss : 0.169610\n",
            "\n",
            "[EPOCH: 10], \tTest Loss: 0.0022, \tTest Accuracy: 97.94 %\n",
            "\n"
          ]
        }
      ]
    },
    {
      "cell_type": "code",
      "source": [],
      "metadata": {
        "id": "uK1j0QVfKoLa"
      },
      "execution_count": 32,
      "outputs": []
    }
  ]
}